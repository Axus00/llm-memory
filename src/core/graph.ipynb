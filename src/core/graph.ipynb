{
 "cells": [
  {
   "cell_type": "code",
   "execution_count": 1,
   "id": "4c21e6a0",
   "metadata": {},
   "outputs": [
    {
     "name": "stderr",
     "output_type": "stream",
     "text": [
      "python-dotenv could not parse statement starting at line 1\n"
     ]
    }
   ],
   "source": [
    "from langgraph.graph import StateGraph, END\n",
    "from core.agent import llm\n",
    "from typing import TypedDict\n",
    "from langgraph.checkpoint.memory import InMemorySaver\n",
    "\n",
    "class AgentState(TypedDict):\n",
    "    response: str\n",
    "    user_input: str\n",
    "    load_memories: list[str]\n",
    "    memory_loaded: bool\n",
    "    context: str\n",
    "\n",
    "\n",
    "# Creamos los nodos correspondientes\n",
    "\n",
    "\n",
    "def user_prompt(state: AgentState) -> AgentState:\n",
    "    \"\"\"Este nodo recibe el prompt por parte del usuario\"\"\"\n",
    "    if 'load_memories' not in state:\n",
    "        state['load_memories'] = []\n",
    "\n",
    "    state['load_memories'].append(f\"Usuario: {state['user_input']}\")\n",
    "    state['memory_loaded'] = False\n",
    "    return state\n",
    "\n",
    "\n",
    "def recall_memory(state: AgentState) -> AgentState:\n",
    "    \"\"\"\n",
    "    Acá se recupera la conversación que se ha tenido con el usuario\n",
    "    generando una respuesta por parte del llm\n",
    "\n",
    "    \"\"\"\n",
    "    try:\n",
    "        memory_context = \"\"\n",
    "        if state['load_memories']:\n",
    "            return_conversation = state['load_memories'][-20:]\n",
    "            memory_context = \"\\n\".join(return_conversation)\n",
    "\n",
    "        state['context'] = memory_context if memory_context else \"No hay conversación previa.\"\n",
    "        state['memory_loaded'] = True\n",
    "\n",
    "    except Exception as e:\n",
    "        state['context'] = f\"Error al cargar el contexto de la conversación.\"\n",
    "        state['memory_loaded'] = False\n",
    "\n",
    "    return state\n",
    "\n",
    "\n",
    "def initialize_agent(state: AgentState) -> AgentState:\n",
    "    \"\"\"Este nodo carga el agente virual configurado\"\"\"\n",
    "    user_message = state['user_input']\n",
    "    context = state.get('context', 'No tengo contexto previo')\n",
    "    AGENT_IA = \"Doris\"\n",
    "\n",
    "    prompt = f\"\"\"\n",
    "    Eres {AGENT_IA} un asistente virtual que mantiene contexto de conversaciones.\n",
    "\n",
    "    Contexto de la conversación previamente\n",
    "    {context}\n",
    "\n",
    "    El usuario te ha preguntado: {user_message}\n",
    "\n",
    "    Responde de manera natural, teniendo en cuenta el contexto de la conversación si es relevante.\n",
    "    \"\"\"\n",
    "\n",
    "    try:\n",
    "        llm_response = llm.invoke(prompt)\n",
    "        agent_response = llm_response.content\n",
    "        state['response'] = agent_response\n",
    "\n",
    "        # En este punto agregamos la conversación al estado\n",
    "        state['load_memories'].append(f\"{AGENT_IA}: {agent_response}\")\n",
    "    except Exception as e:\n",
    "        exception_message = f\"Lo siento pero no tengo una respuesta válida para esa solicitud, {str(e)}\"\n",
    "        state['response'] = exception_message\n",
    "        state['load_memories'].append(f\"{AGENT_IA}: {exception_message}\")\n",
    "\n",
    "    return state"
   ]
  },
  {
   "cell_type": "code",
   "execution_count": 2,
   "id": "172c6d16",
   "metadata": {},
   "outputs": [],
   "source": [
    "# actualizamos el estado del gráfico\n",
    "\n",
    "\n",
    "graph = StateGraph(AgentState)\n",
    "\n",
    "\n",
    "graph.add_node(\"user_prompt\", user_prompt)\n",
    "graph.add_node(\"recall_memory\", recall_memory)\n",
    "graph.add_node(\"initialize_agent\", initialize_agent)\n",
    "\n",
    "\n",
    "graph.set_entry_point(\"user_prompt\")\n",
    "\n",
    "graph.add_edge(\"user_prompt\", \"recall_memory\")\n",
    "graph.add_edge(\"recall_memory\", \"initialize_agent\")\n",
    "graph.add_edge(\"initialize_agent\", END)\n",
    "\n",
    "\n",
    "memory = InMemorySaver()\n",
    "\n",
    "\n",
    "graph_compiled = graph.compile(checkpointer=memory)"
   ]
  },
  {
   "cell_type": "code",
   "execution_count": 9,
   "id": "3aa9e22d",
   "metadata": {},
   "outputs": [
    {
     "data": {
      "image/png": "[encoded data removed]",
      "text/plain": [
       "<IPython.core.display.Image object>"
      ]
     },
     "metadata": {},
     "output_type": "display_data"
    }
   ],
   "source": [
    "from IPython.display import Image, display\n",
    "\n",
    "display(Image(graph_compiled.get_graph().draw_mermaid_png()))"
   ]
  }
 ],
 "metadata": {
  "kernelspec": {
   "display_name": ".venv",
   "language": "python",
   "name": "python3"
  },
  "language_info": {
   "codemirror_mode": {
    "name": "ipython",
    "version": 3
   },
   "file_extension": ".py",
   "mimetype": "text/x-python",
   "name": "python",
   "nbconvert_exporter": "python",
   "pygments_lexer": "ipython3",
   "version": "3.13.5"
  }
 },
 "nbformat": 4,
 "nbformat_minor": 5
}
